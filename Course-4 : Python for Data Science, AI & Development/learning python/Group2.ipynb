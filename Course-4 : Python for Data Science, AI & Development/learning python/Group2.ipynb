{
  "cells": [
    {
      "cell_type": "code",
      "execution_count": 4,
      "metadata": {
        "colab": {
          "base_uri": "https://localhost:8080/",
          "height": 35
        },
        "id": "dGNOl7ai4bKR",
        "outputId": "b4a1ec86-e0f1-4d04-e5f2-2bb4a72d3c05"
      },
      "outputs": [
        {
          "data": {
            "application/vnd.google.colaboratory.intrinsic+json": {
              "type": "string"
            },
            "text/plain": [
              "'3.8.10'"
            ]
          },
          "execution_count": 4,
          "metadata": {},
          "output_type": "execute_result"
        }
      ],
      "source": [
        "#Write a Python code to return your Python version\n",
        "from platform import python_version\n",
        " \n",
        "python_version()"
      ]
    },
    {
      "cell_type": "code",
      "execution_count": 36,
      "metadata": {
        "colab": {
          "base_uri": "https://localhost:8080/"
        },
        "id": "hKvqGryk6ric",
        "outputId": "9778bfcb-e6e6-4a84-d17d-f0b7eea8d10d"
      },
      "outputs": [
        {
          "name": "stdout",
          "output_type": "stream",
          "text": [
            "customer id =513\n"
          ]
        }
      ],
      "source": [
        "#Write a Python code to declare variable id=\"513\".\n",
        "#Print the following statement \"customer id =513\".\n",
        "id = \"513\"\n",
        "print(\"customer id =\" + id)"
      ]
    },
    {
      "cell_type": "code",
      "execution_count": 13,
      "metadata": {
        "colab": {
          "base_uri": "https://localhost:8080/",
          "height": 183
        },
        "id": "fDgy_bWr61NT",
        "outputId": "9debc109-9d51-4686-cd1a-6331bd4b82a6"
      },
      "outputs": [
        {
          "ename": "TypeError",
          "evalue": "ignored",
          "output_type": "error",
          "traceback": [
            "\u001b[0;31m---------------------------------------------------------------------------\u001b[0m",
            "\u001b[0;31mTypeError\u001b[0m                                 Traceback (most recent call last)",
            "\u001b[0;32m<ipython-input-13-a8ea2f330fac>\u001b[0m in \u001b[0;36m<module>\u001b[0;34m\u001b[0m\n\u001b[1;32m      1\u001b[0m \u001b[0;31m#Run the following statement, why there is an error\u001b[0m\u001b[0;34m\u001b[0m\u001b[0;34m\u001b[0m\u001b[0;34m\u001b[0m\u001b[0m\n\u001b[0;32m----> 2\u001b[0;31m \u001b[0mid\u001b[0m\u001b[0;34m=\u001b[0m\u001b[0mid\u001b[0m\u001b[0;34m+\u001b[0m\u001b[0;36m1\u001b[0m\u001b[0;34m\u001b[0m\u001b[0;34m\u001b[0m\u001b[0m\n\u001b[0m",
            "\u001b[0;31mTypeError\u001b[0m: can only concatenate str (not \"int\") to str"
          ]
        }
      ],
      "source": [
        "#Run the following statement, why there is an error\n",
        "id=id+1"
      ]
    },
    {
      "cell_type": "code",
      "execution_count": 40,
      "metadata": {
        "colab": {
          "base_uri": "https://localhost:8080/"
        },
        "id": "zuuRjwXJEfAa",
        "outputId": "6ccff38c-cc6e-44fb-8acb-c1be41f400c6"
      },
      "outputs": [
        {
          "name": "stdout",
          "output_type": "stream",
          "text": [
            "514\n"
          ]
        }
      ],
      "source": [
        "#Convert the variable id into an integer, increment it by 1.\n",
        "#Assign the result to variable new_id.\n",
        "#Print the new_id\n",
        "new_id = int(id) + 1\n",
        "print(new_id)"
      ]
    },
    {
      "cell_type": "code",
      "execution_count": 41,
      "metadata": {
        "colab": {
          "base_uri": "https://localhost:8080/"
        },
        "id": "vYcZY0gpHRhm",
        "outputId": "546f4cb0-cb7b-4dad-fa84-0893c1f312aa"
      },
      "outputs": [
        {
          "name": "stdout",
          "output_type": "stream",
          "text": [
            "Twinkle, twinkle, little star,\n",
            "\tHow I wonder what you are!\n",
            "\t\tUp above the world so high,\n",
            "\t\t\tLike a diamond in the sky.\n"
          ]
        }
      ],
      "source": [
        "#Write a Python code to print the following string in a specific format (see the\n",
        "# Twinkle, twinkle, little star,\n",
        "# How I wonder what you are!\n",
        "# Up above the world so high,\n",
        "# Like a diamond in the sky.\n",
        "\n",
        "print(\"Twinkle, twinkle, little star,\\n\\tHow I wonder what you are!\\n\\t\\tUp above the world so high,\\n\\t\\t\\tLike a diamond in the sky.\")"
      ]
    },
    {
      "cell_type": "code",
      "execution_count": 42,
      "metadata": {
        "colab": {
          "base_uri": "https://localhost:8080/"
        },
        "id": "K_mP3jfAVGvC",
        "outputId": "9514e46b-67bc-4589-a4b0-c19251ff1984"
      },
      "outputs": [
        {
          "name": "stdout",
          "output_type": "stream",
          "text": [
            "P\n"
          ]
        }
      ],
      "source": [
        "#Givin the following string variable, # Print the first element in the string\n",
        "course =\"Python for Data Science\"\n",
        "print(course[0])"
      ]
    },
    {
      "cell_type": "code",
      "execution_count": 17,
      "metadata": {
        "colab": {
          "base_uri": "https://localhost:8080/"
        },
        "id": "HSIQwPLiH27P",
        "outputId": "ab1f3389-cf0a-45c0-813a-a6bf1496af00"
      },
      "outputs": [
        {
          "name": "stdout",
          "output_type": "stream",
          "text": [
            "t\n"
          ]
        }
      ],
      "source": [
        "# Print the element on the 13th index in the string\n",
        "print(course[13])"
      ]
    },
    {
      "cell_type": "code",
      "execution_count": 19,
      "metadata": {
        "colab": {
          "base_uri": "https://localhost:8080/"
        },
        "id": "EKYRUzc5IOjy",
        "outputId": "bb06e45d-efe6-454f-c8f6-8cdd02f03396"
      },
      "outputs": [
        {
          "data": {
            "text/plain": [
              "23"
            ]
          },
          "execution_count": 19,
          "metadata": {},
          "output_type": "execute_result"
        }
      ],
      "source": [
        "# Find the length of string\n",
        "print(len(course))"
      ]
    },
    {
      "cell_type": "code",
      "execution_count": 20,
      "metadata": {
        "colab": {
          "base_uri": "https://localhost:8080/"
        },
        "id": "arE3rZhtIHa6",
        "outputId": "964ddda8-56df-4d82-f44d-b9e8a2656cff"
      },
      "outputs": [
        {
          "name": "stdout",
          "output_type": "stream",
          "text": [
            "e\n"
          ]
        }
      ],
      "source": [
        "# Print the last element in the string [use negative index]\n",
        "print(course[-1])"
      ]
    },
    {
      "cell_type": "code",
      "execution_count": 15,
      "metadata": {
        "colab": {
          "base_uri": "https://localhost:8080/"
        },
        "id": "TOdAMbbrIb5i",
        "outputId": "421b11c0-8626-4787-bc30-c7d267b99d2c"
      },
      "outputs": [
        {
          "name": "stdout",
          "output_type": "stream",
          "text": [
            "Data\n"
          ]
        }
      ],
      "source": [
        "# Take the slice on variable course with only index 11 to index 14\n",
        "print(course[11:15])"
      ]
    },
    {
      "cell_type": "code",
      "execution_count": 16,
      "metadata": {
        "colab": {
          "base_uri": "https://localhost:8080/"
        },
        "id": "TT2M5fsxIjqZ",
        "outputId": "9c84a5e6-5597-4d16-d9db-8fa55a28ee9e"
      },
      "outputs": [
        {
          "name": "stdout",
          "output_type": "stream",
          "text": [
            "Ph ra i\n"
          ]
        }
      ],
      "source": [
        "# Get every third element in the range from index 0 to index 20\n",
        "print(course[:21:3])"
      ]
    },
    {
      "cell_type": "code",
      "execution_count": 43,
      "metadata": {
        "colab": {
          "base_uri": "https://localhost:8080/"
        },
        "id": "NIeMNJ7QIy4j",
        "outputId": "0070af21-477d-45d1-aa64-a75d14bcf568"
      },
      "outputs": [
        {
          "name": "stdout",
          "output_type": "stream",
          "text": [
            "Python for Data Science, AI & Development\n"
          ]
        }
      ],
      "source": [
        "# Concatenate course string with \", AI & Development\"\n",
        "print(course + \", AI & Development\")"
      ]
    },
    {
      "cell_type": "code",
      "execution_count": 44,
      "metadata": {
        "colab": {
          "base_uri": "https://localhost:8080/"
        },
        "id": "Ojft0TnOJAqB",
        "outputId": "d9ee3360-dd9c-49c6-ed3a-c48d251d107e"
      },
      "outputs": [
        {
          "name": "stdout",
          "output_type": "stream",
          "text": [
            "Python_for_Data_Science\n",
            "Python_for_Data_Science\n"
          ]
        }
      ],
      "source": [
        "# Replace all the spaces with (_). New string should looks like\"Python_for_Data_S\n",
        "print(course.replace(\" \", \"_\"))\n",
        "print(\"_\".join(course.split(' ')))"
      ]
    },
    {
      "cell_type": "code",
      "execution_count": 45,
      "metadata": {
        "colab": {
          "base_uri": "https://localhost:8080/",
          "height": 35
        },
        "id": "lnIBmKL5JMgW",
        "outputId": "0459d964-2529-4523-82c2-5ec6f67d2840"
      },
      "outputs": [
        {
          "data": {
            "application/vnd.google.colaboratory.intrinsic+json": {
              "type": "string"
            },
            "text/plain": [
              "'PYTHON FOR DATA SCIENCE'"
            ]
          },
          "execution_count": 45,
          "metadata": {},
          "output_type": "execute_result"
        }
      ],
      "source": [
        "course.upper()"
      ]
    }
  ],
  "metadata": {
    "colab": {
      "provenance": []
    },
    "kernelspec": {
      "display_name": "Python 3",
      "name": "python3"
    },
    "language_info": {
      "name": "python"
    }
  },
  "nbformat": 4,
  "nbformat_minor": 0
}
