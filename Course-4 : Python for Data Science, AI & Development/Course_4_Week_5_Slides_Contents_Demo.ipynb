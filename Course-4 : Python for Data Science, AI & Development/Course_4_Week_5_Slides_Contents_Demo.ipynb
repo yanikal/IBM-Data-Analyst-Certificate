{
  "cells": [
    {
      "cell_type": "markdown",
      "id": "7199355e",
      "metadata": {
        "id": "7199355e"
      },
      "source": [
        "# requests and APIs: A Match Made in Heaven"
      ]
    },
    {
      "cell_type": "markdown",
      "id": "e43af3fe",
      "metadata": {
        "id": "e43af3fe"
      },
      "source": [
        "When consuming APIs with Python, there’s only one library you need: requests. With it, you should be able to do most, if not all, of the actions required to consume any public API.\n",
        "\n",
        "You can install requests by running the following command in your console:\n"
      ]
    },
    {
      "cell_type": "code",
      "execution_count": null,
      "id": "7cb95120",
      "metadata": {
        "id": "7cb95120",
        "outputId": "475f601d-31ed-4ee5-8625-00d0c2aa804e"
      },
      "outputs": [
        {
          "name": "stdout",
          "output_type": "stream",
          "text": [
            "Requirement already satisfied: requests in c:\\users\\as_mr\\anaconda3\\lib\\site-packages (2.25.1)\n",
            "Requirement already satisfied: chardet<5,>=3.0.2 in c:\\users\\as_mr\\anaconda3\\lib\\site-packages (from requests) (4.0.0)\n",
            "Requirement already satisfied: certifi>=2017.4.17 in c:\\users\\as_mr\\anaconda3\\lib\\site-packages (from requests) (2020.12.5)\n",
            "Requirement already satisfied: idna<3,>=2.5 in c:\\users\\as_mr\\anaconda3\\lib\\site-packages (from requests) (2.10)\n",
            "Requirement already satisfied: urllib3<1.27,>=1.21.1 in c:\\users\\as_mr\\anaconda3\\lib\\site-packages (from requests) (1.26.4)\n"
          ]
        }
      ],
      "source": [
        "!python -m pip install requests"
      ]
    },
    {
      "cell_type": "markdown",
      "id": "71727c8c",
      "metadata": {
        "id": "71727c8c"
      },
      "source": [
        "The only thing you need to start with the Random User Generator API is to know which URL to call it with. For this example, the URL to use is https://randomuser.me/api/, and this is the tiniest API call you can make:"
      ]
    },
    {
      "cell_type": "code",
      "execution_count": null,
      "id": "333924aa",
      "metadata": {
        "id": "333924aa",
        "outputId": "588c5b16-d1dd-48ff-a044-d53ef4f4cc82"
      },
      "outputs": [
        {
          "name": "stdout",
          "output_type": "stream",
          "text": [
            "<Response [200]>\n"
          ]
        }
      ],
      "source": [
        "import requests\n",
        "response= requests.get(\"https://randomuser.me/api/\")\n",
        "print(response)"
      ]
    },
    {
      "cell_type": "code",
      "source": [],
      "metadata": {
        "id": "Y9aWi3vcDiU-"
      },
      "id": "Y9aWi3vcDiU-",
      "execution_count": null,
      "outputs": []
    },
    {
      "cell_type": "markdown",
      "id": "a1794f76",
      "metadata": {
        "id": "a1794f76"
      },
      "source": [
        "In this example, you import the requests library and then fetch (or get) data from the URL for the Random User Generator API. But you don’t actually see any of the data returned. What you get instead is a Response [200], which in API terms means everything went OK."
      ]
    },
    {
      "cell_type": "code",
      "execution_count": null,
      "id": "5e664216",
      "metadata": {
        "id": "5e664216",
        "outputId": "01b8828f-2568-4577-d8ae-7305b9ff8434"
      },
      "outputs": [
        {
          "data": {
            "text/plain": [
              "'{\"results\":[{\"gender\":\"male\",\"name\":{\"title\":\"Mr\",\"first\":\"Bo\",\"last\":\"Kongshaug\"},\"location\":{\"street\":{\"number\":2407,\"name\":\"Bergsliens gate\"},\"city\":\"Storsteinnes\",\"state\":\"Rogaland\",\"country\":\"Norway\",\"postcode\":\"2830\",\"coordinates\":{\"latitude\":\"45.8296\",\"longitude\":\"-147.6143\"},\"timezone\":{\"offset\":\"+5:00\",\"description\":\"Ekaterinburg, Islamabad, Karachi, Tashkent\"}},\"email\":\"bo.kongshaug@example.com\",\"login\":{\"uuid\":\"27b30c98-0127-4d6b-b78a-ac095898777f\",\"username\":\"lazymouse675\",\"password\":\"honor\",\"salt\":\"cgkB1xUm\",\"md5\":\"28b1ed3b6a9e9a9c617a90e8595b4dbd\",\"sha1\":\"712262483b45b0d5ecea67098951f7574e79d4db\",\"sha256\":\"13bd56601902b1739d2cbf72d67311f0253f2eee1e9da7bcf4b907c1915f2f6e\"},\"dob\":{\"date\":\"1989-12-25T06:08:54.065Z\",\"age\":33},\"registered\":{\"date\":\"2002-09-05T20:01:07.291Z\",\"age\":20},\"phone\":\"35654449\",\"cell\":\"94076186\",\"id\":{\"name\":\"FN\",\"value\":\"25128940777\"},\"picture\":{\"large\":\"https://randomuser.me/api/portraits/men/59.jpg\",\"medium\":\"https://randomuser.me/api/portraits/med/men/59.jpg\",\"thumbnail\":\"https://randomuser.me/api/portraits/thumb/men/59.jpg\"},\"nat\":\"NO\"}],\"info\":{\"seed\":\"7431fa990440049f\",\"results\":1,\"page\":1,\"version\":\"1.4\"}}'"
            ]
          },
          "execution_count": 13,
          "metadata": {},
          "output_type": "execute_result"
        }
      ],
      "source": [
        "import requests\n",
        "response= requests.get(\"https://randomuser.me/api/\")\n",
        "response.text"
      ]
    },
    {
      "cell_type": "markdown",
      "id": "aad9845d",
      "metadata": {
        "id": "aad9845d"
      },
      "source": [
        "As you very briefly read above, all interactions between a client—in this case your Python console—and an API are split into a request and a response:\n",
        "Requests contain relevant data regarding your API request call, such as the base URL, the endpoint, the method used, the headers, and so on.\n",
        "Responses contain relevant data returned by the server, including the data or content, the status code, and the headers.\n"
      ]
    },
    {
      "cell_type": "markdown",
      "id": "8dd2456a",
      "metadata": {
        "id": "8dd2456a"
      },
      "source": [
        "Status code\t\n",
        "Description\n",
        "200 OK -Your request was successful!\n",
        "201 Created -Your request was accepted and the resource was created.\n",
        "400 Bad Request -Your request is either wrong or missing some information.\n",
        "401 Unauthorized -Your request requires some additional permissions.\n",
        "404 Not Found -The requested resource does not exist.\n",
        "405 Method Not Allowed -The endpoint does not allow for that specific HTTP method.\n",
        "500 Internal Server Error -Your request wasn’t expected and probably broke something on the server side.\n"
      ]
    },
    {
      "cell_type": "code",
      "execution_count": null,
      "id": "45bc88c9",
      "metadata": {
        "id": "45bc88c9",
        "outputId": "ed44acad-9e7f-4b6c-b086-18de7fb74c25"
      },
      "outputs": [
        {
          "name": "stdout",
          "output_type": "stream",
          "text": [
            "200\n",
            "OK\n"
          ]
        }
      ],
      "source": [
        "import requests\n",
        "response = requests.get(\"https://api.thedogapi.com/v1/breeds\")\n",
        "print(response.status_code)\n",
        "print(response.reason)"
      ]
    },
    {
      "cell_type": "code",
      "execution_count": null,
      "id": "cb5dbac3",
      "metadata": {
        "id": "cb5dbac3",
        "outputId": "e8c6e9a4-e269-40dc-965d-cc6e434e9e4c"
      },
      "outputs": [
        {
          "name": "stdout",
          "output_type": "stream",
          "text": [
            "404\n",
            "Not Found\n"
          ]
        }
      ],
      "source": [
        "response = requests.get(\"https://api.thedogapi.com/v1/breedz\")\n",
        "print(response.status_code)\n",
        "print(response.reason)"
      ]
    },
    {
      "cell_type": "markdown",
      "id": "9470ffe3",
      "metadata": {
        "id": "9470ffe3"
      },
      "source": [
        "The first request returns 200, so you can consider it a successful request. But now have a look at a failing request triggered when you include a typo in the endpoint /breedz\n",
        "As you can see, the /breedz endpoint doesn’t exist, so the API returns a 404 Not Found status code.\n"
      ]
    },
    {
      "cell_type": "markdown",
      "id": "d9d78de5",
      "metadata": {
        "id": "d9d78de5"
      },
      "source": [
        "# HTTP Headers"
      ]
    },
    {
      "cell_type": "code",
      "execution_count": null,
      "id": "14a251f3",
      "metadata": {
        "id": "14a251f3",
        "outputId": "83076c0a-4c89-468c-d991-7ca623716e8d"
      },
      "outputs": [
        {
          "data": {
            "text/plain": [
              "{'x-dns-prefetch-control': 'off', 'x-frame-options': 'SAMEORIGIN', 'strict-transport-security': 'max-age=15552000; includeSubDomains', 'x-download-options': 'noopen', 'x-content-type-options': 'nosniff', 'x-xss-protection': '1; mode=block', 'vary': 'Origin', 'content-type': 'application/json; charset=utf-8', 'x-response-time': '1ms', 'X-Cloud-Trace-Context': '89b3132e1ec0c7c5d32859fd4ae4b2d4', 'Date': 'Thu, 02 Mar 2023 22:18:08 GMT', 'Server': 'Google Frontend', 'Content-Length': '357'}"
            ]
          },
          "execution_count": 27,
          "metadata": {},
          "output_type": "execute_result"
        }
      ],
      "source": [
        "response = requests.get(\"https://api.thedogapi.com/v1/breeds/1\")\n",
        "response.headers\n"
      ]
    },
    {
      "cell_type": "markdown",
      "id": "00945b07",
      "metadata": {
        "id": "00945b07"
      },
      "source": [
        "Another standard that you might come across when consuming APIs is the use of custom headers. These usually start with X-, but they’re not required to. API developers typically use custom headers to send or request additional custom information from clients.\n",
        "You can use a dictionary to define headers, and you can send them along with your request using the headers parameter of .get(). For example, say you want to send some request ID to the API server, and you know you can do that using X-Request-Id:"
      ]
    },
    {
      "cell_type": "code",
      "execution_count": null,
      "id": "37e9a4b0",
      "metadata": {
        "id": "37e9a4b0",
        "outputId": "d75bf91d-3e35-4792-c4c9-ed4e9fa8b4f5"
      },
      "outputs": [
        {
          "data": {
            "text/plain": [
              "{'User-Agent': 'python-requests/2.25.1', 'Accept-Encoding': 'gzip, deflate', 'Accept': '*/*', 'Connection': 'keep-alive', 'X-Request-Id': '<my-request-id>'}"
            ]
          },
          "execution_count": 35,
          "metadata": {},
          "output_type": "execute_result"
        }
      ],
      "source": [
        "headers = {\"X-Request-Id\": \"<my-request-id>\"}\n",
        "response = requests.get(\"https://example.org\", headers=headers)\n",
        "response.request.headers\n",
        "#response.text"
      ]
    },
    {
      "cell_type": "markdown",
      "id": "9aed685f",
      "metadata": {
        "id": "9aed685f"
      },
      "source": [
        "If you go through the request.headers dictionary, then you’ll find X-Request-Id right at the end, among a few other headers that come by default with any API request.\n",
        "There are many useful headers a response might have, but one of the most important ones is Content-Type, which defines the kind of content returned in the response."
      ]
    },
    {
      "cell_type": "markdown",
      "id": "f42e6614",
      "metadata": {
        "id": "f42e6614"
      },
      "source": [
        "To properly read the response contents according to the different Content-Type headers, the requests package comes with a couple of different Response attributes you can use to manipulate the response data:\n",
        ".text returns the response contents in Unicode format.\n",
        ".content returns the response contents in bytes.\n",
        "You already used the .text attribute above. But for some specific types of data, like images and other non textual data, using .content is typically a better approach, even if it returns a very similar result to .text:"
      ]
    },
    {
      "cell_type": "code",
      "execution_count": null,
      "id": "c508886d",
      "metadata": {
        "id": "c508886d",
        "outputId": "2fe9cb98-1e1a-4945-d0b1-7959279589d9"
      },
      "outputs": [
        {
          "data": {
            "text/plain": [
              "b'{\"weight\":{\"imperial\":\"6 - 13\",\"metric\":\"3 - 6\"},\"height\":{\"imperial\":\"9 - 11.5\",\"metric\":\"23 - 29\"},\"id\":1,\"name\":\"Affenpinscher\",\"bred_for\":\"Small rodent hunting, lapdog\",\"breed_group\":\"Toy\",\"life_span\":\"10 - 12 years\",\"temperament\":\"Stubborn, Curious, Playful, Adventurous, Active, Fun-loving\",\"origin\":\"Germany, France\",\"reference_image_id\":\"BJa4kxc4X\"}'"
            ]
          },
          "execution_count": 36,
          "metadata": {},
          "output_type": "execute_result"
        }
      ],
      "source": [
        "response = requests.get(\"https://api.thedogapi.com/v1/breeds/1\")\n",
        "response.headers.get(\"Content-Type\")\n",
        "response.content\n"
      ]
    },
    {
      "cell_type": "markdown",
      "id": "be9513b3",
      "metadata": {
        "id": "be9513b3"
      },
      "source": [
        "As you can see, there isn’t a big difference between .content and the previously used .text.\n",
        "However, by looking at the response Content-Type header, you can see the content is application/json;, a JSON object. For that kind of content, the requests library includes a specific .json() method that you can use to immediately convert the API bytes response into a Python data structure:"
      ]
    },
    {
      "cell_type": "code",
      "execution_count": null,
      "id": "1e40aeea",
      "metadata": {
        "id": "1e40aeea",
        "outputId": "f4f5a1c0-6902-4853-807f-74d80af9e4ba"
      },
      "outputs": [
        {
          "data": {
            "text/plain": [
              "'Affenpinscher'"
            ]
          },
          "execution_count": 37,
          "metadata": {},
          "output_type": "execute_result"
        }
      ],
      "source": [
        "response = requests.get(\"https://api.thedogapi.com/v1/breeds/1\")\n",
        "response.headers.get(\"Content-Type\")\n",
        "response.json()\n",
        "response.json()[\"name\"]\n"
      ]
    },
    {
      "cell_type": "markdown",
      "id": "4ea86bca",
      "metadata": {
        "id": "4ea86bca"
      },
      "source": [
        "If you’re curious about the remaining HTTP methods, or if you just want to learn a bit more about those already mentioned, then have a look through Mozilla’s documentation.\n",
        "Until now, you’ve only used .get() to fetch data, but you can use the requests package for all the other HTTP methods as well:"
      ]
    },
    {
      "cell_type": "code",
      "execution_count": null,
      "id": "6cb6337f",
      "metadata": {
        "id": "6cb6337f",
        "outputId": "0a84239b-49eb-4fd3-a244-8333ded63226"
      },
      "outputs": [
        {
          "data": {
            "text/plain": [
              "<Response [405]>"
            ]
          },
          "execution_count": 38,
          "metadata": {},
          "output_type": "execute_result"
        }
      ],
      "source": [
        "requests.post(\"https://api.thedogapi.com/v1/breeds/1\")\n",
        "requests.get(\"https://api.thedogapi.com/v1/breeds/1\")\n",
        "requests.put(\"https://api.thedogapi.com/v1/breeds/1\")\n",
        "requests.delete(\"https://api.thedogapi.com/v1/breeds/1\")\n"
      ]
    },
    {
      "cell_type": "markdown",
      "id": "10d8d4a7",
      "metadata": {
        "id": "10d8d4a7"
      },
      "source": [
        "If you try these on your console, then you’ll notice that most of them will return a 405 Method Not Allowed status code. That’s because not all endpoints will allow for POST, PUT, or DELETE methods. Especially when you’re reading data using public APIs, you’ll find that most APIs will only allow GET requests since you’re not allowed to create or change the existing data."
      ]
    },
    {
      "cell_type": "markdown",
      "id": "1dffd5ff",
      "metadata": {
        "id": "1dffd5ff"
      },
      "source": [
        "# Getting COVID-19 Confirmed Cases Per Country"
      ]
    },
    {
      "cell_type": "markdown",
      "id": "b23a7d56",
      "metadata": {
        "id": "b23a7d56"
      },
      "source": [
        "Even though this may be something that you’re tired of hearing about by now, there’s a free API with up-to-date world COVID-19 data. For this example, you’ll get the total number of confirmed cases up to the previous day."
      ]
    },
    {
      "cell_type": "code",
      "execution_count": null,
      "id": "310eb43a",
      "metadata": {
        "id": "310eb43a",
        "outputId": "ee256ddb-bd5d-4343-8a91-992c9932df78"
      },
      "outputs": [
        {
          "name": "stdout",
          "output_type": "stream",
          "text": [
            "Total Confirmed Covid-19 cases in canada: 0\n"
          ]
        }
      ],
      "source": [
        "import requests\n",
        "from datetime import date, timedelta\n",
        "\n",
        "today = date.today()\n",
        "yesterday = today - timedelta(days=1)\n",
        "country = \"canada\"\n",
        "endpoint = f\"https://api.covid19api.com/country/{country}/status/confirmed\"\n",
        "params = {\"from\": str(yesterday), \"to\": str(today)}\n",
        "\n",
        "response = requests.get(endpoint, params=params).json()\n",
        "total_confirmed = 0\n",
        "for day in response:\n",
        "    cases = day.get(\"Cases\", 0)\n",
        "    total_confirmed += cases\n",
        "\n",
        "print(f\"Total Confirmed Covid-19 cases in {country}: {total_confirmed}\")"
      ]
    },
    {
      "cell_type": "code",
      "execution_count": null,
      "id": "921855cb",
      "metadata": {
        "id": "921855cb",
        "outputId": "3fd1faa3-6216-42e8-8fd7-aa9fa1a3d2bf"
      },
      "outputs": [
        {
          "name": "stdout",
          "output_type": "stream",
          "text": [
            "<html>\n",
            "<head>\n",
            "<title>Profile: Aphrodite</title>\n",
            "</head>\n",
            "<body bgcolor=\"yellow\">\n",
            "<center>\n",
            "<br><br>\n",
            "<img src=\"/static/aphrodite.gif\" />\n",
            "<h2>Name: Aphrodite</h2>\n",
            "<br><br>\n",
            "Favorite animal: Dove\n",
            "<br><br>\n",
            "Favorite color: Red\n",
            "<br><br>\n",
            "Hometown: Mount Olympus\n",
            "</center>\n",
            "</body>\n",
            "</html>\n",
            "\n"
          ]
        }
      ],
      "source": [
        "from urllib.request import urlopen\n",
        "url = \"http://olympus.realpython.org/profiles/aphrodite\"\n",
        "page = urlopen(url)\n",
        "html_bytes = page.read()\n",
        "html = html_bytes.decode(\"utf-8\")\n",
        "#Now you can print the HTML to see the contents of the web page:\n",
        "print(html)\n"
      ]
    },
    {
      "cell_type": "code",
      "execution_count": null,
      "id": "5e859e3c",
      "metadata": {
        "id": "5e859e3c",
        "outputId": "eb4fae16-86f6-4c42-9dbc-4474a8df53d4"
      },
      "outputs": [
        {
          "name": "stdout",
          "output_type": "stream",
          "text": [
            "Profile: Aphrodite\n"
          ]
        }
      ],
      "source": [
        "from urllib.request import urlopen\n",
        "url = \"http://olympus.realpython.org/profiles/poseidon\"\n",
        "title_index = html.find(\"<title>\")\n",
        "title_index\n",
        "start_index = title_index + len(\"<title>\")\n",
        "start_index\n",
        "end_index = html.find(\"</title>\")\n",
        "end_index\n",
        "title = html[start_index:end_index]\n",
        "print(title)\n"
      ]
    },
    {
      "cell_type": "code",
      "execution_count": null,
      "id": "fe2c9ed2",
      "metadata": {
        "id": "fe2c9ed2",
        "outputId": "3393a34d-2225-4f72-b064-65637c260269"
      },
      "outputs": [
        {
          "name": "stdout",
          "output_type": "stream",
          "text": [
            "\n",
            "<head>\n",
            "<title >Profile: Poseidon\n"
          ]
        }
      ],
      "source": [
        "from urllib.request import urlopen\n",
        "url = \"http://olympus.realpython.org/profiles/poseidon\"\n",
        "page = urlopen(url)\n",
        "html = page.read().decode(\"utf-8\")\n",
        "start_index = html.find(\"<title>\") + len(\"<title>\")\n",
        "end_index = html.find(\"</title>\")\n",
        "title = html[start_index:end_index]\n",
        "title\n",
        "print(title)\n"
      ]
    },
    {
      "cell_type": "code",
      "execution_count": null,
      "id": "a4e4b7b2",
      "metadata": {
        "id": "a4e4b7b2"
      },
      "outputs": [],
      "source": []
    }
  ],
  "metadata": {
    "kernelspec": {
      "display_name": "Python 3",
      "language": "python",
      "name": "python3"
    },
    "language_info": {
      "codemirror_mode": {
        "name": "ipython",
        "version": 3
      },
      "file_extension": ".py",
      "mimetype": "text/x-python",
      "name": "python",
      "nbconvert_exporter": "python",
      "pygments_lexer": "ipython3",
      "version": "3.8.8"
    },
    "colab": {
      "provenance": []
    }
  },
  "nbformat": 4,
  "nbformat_minor": 5
}